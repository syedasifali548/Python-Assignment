{
 "cells": [
  {
   "cell_type": "code",
   "execution_count": null,
   "metadata": {},
   "outputs": [],
   "source": [
    "marks=[]\n",
    "totalmarks=0;\n",
    "for i in range (5):\n",
    "    x=int(input(\"enter marks out of 100 \"))\n",
    "    \n",
    "    marks.append(x)\n",
    "    totalmarks+=x\n",
    "    \n",
    "print(\"total marks =\",totalmarks)\n",
    "percentage=(totalmarks/500)*100\n",
    "print(\"percentage =\",percentage)\n",
    "if percentage>=90:\n",
    "    print(\"grade A+\") \n",
    "elif percentage>=80:\n",
    "    print(\"grade A\")\n",
    "elif percentage>=70:\n",
    "    print(\"grade B\")\n",
    "elif percentage>=60:\n",
    "    print(\"grade C\")\n",
    "elif percentage>=50:\n",
    "    print(\"grade D\")\n",
    "else:\n",
    "    print(\"fail\")\n"
   ]
  }
 ],
 "metadata": {
  "kernelspec": {
   "display_name": "Python 3",
   "language": "python",
   "name": "python3"
  },
  "language_info": {
   "codemirror_mode": {
    "name": "ipython",
    "version": 3
   },
   "file_extension": ".py",
   "mimetype": "text/x-python",
   "name": "python",
   "nbconvert_exporter": "python",
   "pygments_lexer": "ipython3",
   "version": "3.7.3"
  }
 },
 "nbformat": 4,
 "nbformat_minor": 2
}
