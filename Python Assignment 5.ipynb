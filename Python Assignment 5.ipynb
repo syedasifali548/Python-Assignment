{
 "cells": [
  {
   "cell_type": "code",
   "execution_count": 1,
   "metadata": {},
   "outputs": [
    {
     "name": "stdout",
     "output_type": "stream",
     "text": [
      "Enter a factorial number : 7\n",
      "factorial of 7 is: 5040\n"
     ]
    }
   ],
   "source": [
    "def factorial(num):\n",
    "    if num==1:\n",
    "        return num\n",
    "    else:\n",
    "        return num * factorial(num-1)\n",
    "num =int(input(\"Enter a factorial number : \"))\n",
    "if num < 0:\n",
    "    print(\"Factorial connot be found\")\n",
    "elif num ==0:\n",
    "    print(\"Factorial of 0 is 1\")\n",
    "else:\n",
    "    print(\"factorial of\", num , \"is:\", factorial(num))"
   ]
  },
  {
   "cell_type": "code",
   "execution_count": 3,
   "metadata": {},
   "outputs": [
    {
     "name": "stdout",
     "output_type": "stream",
     "text": [
      "Enter word : Asif\n",
      "This is not pelindroeme\n"
     ]
    }
   ],
   "source": [
    "def string_test(s):\n",
    "    count1=0\n",
    "    count2= len(s)-1\n",
    "    while count2 >=count1:\n",
    "        if not s[count1]==s[count2]:\n",
    "            return \"This is not pelindroeme\"\n",
    "        count1 +=1\n",
    "        count2-=1\n",
    "        #else:\n",
    "    return \"Yes it is pelindrome\"\n",
    "s=input(\"Enter word : \")\n",
    "print(string_test(s))"
   ]
  },
  {
   "cell_type": "code",
   "execution_count": 5,
   "metadata": {},
   "outputs": [
    {
     "name": "stdout",
     "output_type": "stream",
     "text": [
      "Enter the value: OrAnge\n",
      "Entered string is: OrAnge\n",
      "Upper case of this string is: 2\n",
      "Lower case of this string is: 4\n"
     ]
    }
   ],
   "source": [
    "def word_num(word):\n",
    "    count1=0\n",
    "    count2=0\n",
    "    for i in word:\n",
    "        if i.isupper():\n",
    "            count1+=1\n",
    "        elif i.islower():\n",
    "            count2+=1\n",
    "        else:\n",
    "            pass\n",
    "    print(\"Entered string is: \"+ word)\n",
    "    print(f\"Upper case of this string is: {count1}\")\n",
    "    print(f\"Lower case of this string is: {count2}\")\n",
    "word=input(\"Enter the value: \")\n",
    "word_num(word)"
   ]
  },
  {
   "cell_type": "code",
   "execution_count": 6,
   "metadata": {},
   "outputs": [
    {
     "name": "stdout",
     "output_type": "stream",
     "text": [
      "2\n",
      "12\n",
      "14\n",
      "98\n",
      "100\n"
     ]
    }
   ],
   "source": [
    "list1=[2,12,13,14,7,98,100]\n",
    "def given_num(num):\n",
    "    for num in list1:\n",
    "        if num % 2 == 0:\n",
    "            print(num)\n",
    "given_num(list1)"
   ]
  },
  {
   "cell_type": "code",
   "execution_count": 7,
   "metadata": {},
   "outputs": [
    {
     "name": "stdout",
     "output_type": "stream",
     "text": [
      "Enter the number: 8\n",
      "8 is not prime\n"
     ]
    }
   ],
   "source": [
    "\n",
    "num =int(input(\"Enter the number: \"))\n",
    "if num>1:\n",
    "    for i in range(2,num): \n",
    "        if (num %i)==0:\n",
    "            print(num, \"is not prime\")\n",
    "            break\n",
    "        elif (num%i)!=0:\n",
    "            print(num,\"is prime\")\n",
    "            break\n",
    "        else:\n",
    "            print(num, \"is not prime\")"
   ]
  },
  {
   "cell_type": "code",
   "execution_count": 8,
   "metadata": {},
   "outputs": [
    {
     "name": "stdout",
     "output_type": "stream",
     "text": [
      "Press q for quit\n",
      "Enter items that you boughts: milk\n",
      "Enter items that you boughts: orange\n",
      "Enter items that you boughts: banana\n",
      "Enter items that you boughts: q\n",
      "['milk', 'orange', 'banana', 'q']\n"
     ]
    }
   ],
   "source": [
    "items=[]\n",
    "x=print(\"Press q for quit\")\n",
    "def shoping_list(itemsb):\n",
    "    while True:\n",
    "        \n",
    "        item=input(\"Enter items that you boughts: \")\n",
    "        items.append(item)\n",
    "        if item==\"q\":\n",
    "            break\n",
    "shoping_list(items)\n",
    "print(items)"
   ]
  },
  {
   "cell_type": "code",
   "execution_count": null,
   "metadata": {},
   "outputs": [],
   "source": []
  }
 ],
 "metadata": {
  "kernelspec": {
   "display_name": "Python 3",
   "language": "python",
   "name": "python3"
  },
  "language_info": {
   "codemirror_mode": {
    "name": "ipython",
    "version": 3
   },
   "file_extension": ".py",
   "mimetype": "text/x-python",
   "name": "python",
   "nbconvert_exporter": "python",
   "pygments_lexer": "ipython3",
   "version": "3.7.3"
  }
 },
 "nbformat": 4,
 "nbformat_minor": 2
}
