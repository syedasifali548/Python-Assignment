{
 "cells": [
  {
   "cell_type": "code",
   "execution_count": null,
   "metadata": {},
   "outputs": [],
   "source": [
    "class Car :\n",
    "     def _init_(self,model,color,name,company,number):\n",
    "            self.model = model\n",
    "            self.color = color \n",
    "            self.name = name\n",
    "            self.company = company\n",
    "            self.number = number\n",
    "def print_name(self):\n",
    "        print(\"this car name is : \",self.name)\n",
    "def print_updatecompany(self):\n",
    "        self.company = \"suzuki\"\n",
    "        print(self .company)\n",
    "def print_number(self):\n",
    "        print(self.number)\n",
    "        \n",
    "car1=Car ('2019','Black','Corolla','Toyota','Abx-1234')\n",
    "car2=Car ('2018','white','VIGO','Toyota','Xayz-212')\n",
    "car3=Car ('2017','Red','landcruiser','Toyota','cda-132')\n",
    "car4=Car ('2016','Blue','Civic','Honda','zzw-32')\n",
    "car5=Car ('2015','mate Black','City','Honda','Ax-22')\n",
    "\n",
    "car1.print_name()\n",
    "car2.print_updatecompany()\n",
    "car2.print_number()"
   ]
  }
 ],
 "metadata": {
  "kernelspec": {
   "display_name": "Python 3",
   "language": "python",
   "name": "python3"
  },
  "language_info": {
   "codemirror_mode": {
    "name": "ipython",
    "version": 3
   },
   "file_extension": ".py",
   "mimetype": "text/x-python",
   "name": "python",
   "nbconvert_exporter": "python",
   "pygments_lexer": "ipython3",
   "version": "3.7.3"
  }
 },
 "nbformat": 4,
 "nbformat_minor": 2
}
