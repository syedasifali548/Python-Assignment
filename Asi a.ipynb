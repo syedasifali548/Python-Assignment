{
 "cells": [
  {
   "cell_type": "code",
   "execution_count": 65,
   "metadata": {},
   "outputs": [
    {
     "name": "stdout",
     "output_type": "stream",
     "text": [
      "{'first_name': 'Asif', 'last_name': 'Shah', 'age': 20, 'city': 'Karachi'}\n",
      "{'first_name': 'Asif', 'last_name': 'Shah', 'age': 20, 'city': 'Karachi', 'qualification': 'intermediate'}\n",
      "{'first_name': 'Asif', 'last_name': 'Shah', 'age': 20, 'city': 'Karachi', 'qualification': 'Bsc'}\n",
      "{'first_name': 'Asif', 'last_name': 'Shah', 'age': 20, 'city': 'Karachi'}\n"
     ]
    }
   ],
   "source": [
    "persons ={\n",
    "    \n",
    "    \"first_name\":\"Asif\",\n",
    "    \"last_name\":\"Shah\",\n",
    "    \"age\":20,\n",
    "    \"city\":\"Karachi\"\n",
    "}\n",
    "\n",
    "print(persons)\n",
    "persons.update({\"qualification\":\"intermediate\"})\n",
    "print(persons)\n",
    "persons.update({\"qualification\":\"Bsc\"})\n",
    "print(persons)\n",
    "del persons[\"qualification\"]\n",
    "print(persons)\n"
   ]
  },
  {
   "cell_type": "code",
   "execution_count": 36,
   "metadata": {},
   "outputs": [
    {
     "name": "stdout",
     "output_type": "stream",
     "text": [
      "{'Country_name': 'Pakistan', 'Popullations': '4.5 cror', 'Fact': \"Karachi is vital to Pakistan's economy,contributing 42 percent of GDP\"}\n",
      "{'Country_name': 'Pakistan', 'Populations': '3.7 cror', 'Fact': 'City of gardens'}\n",
      "{'Country_name': 'Pakistan', 'Population': '10 lacs', 'Fact': ' is famous for his old history of Kot Diji fort'}\n"
     ]
    }
   ],
   "source": [
    "cities ={\n",
    "    \"Karachi\":{\n",
    "        \"Country_name\":\"Pakistan\",\n",
    "        \"Popullations\":'4.5 cror',\n",
    "        \"Fact\":\"Karachi is vital to Pakistan's economy,contributing 42 percent of GDP\"},\n",
    "    \"Lahore\":{\n",
    "        \"Country_name\":\"Pakistan\",\n",
    "        \"Populations\":\"3.7 cror\",\n",
    "        \"Fact\":\"City of gardens\"\n",
    "    },\n",
    "    \"Khairpur\":{\n",
    "        \"Country_name\":\"Pakistan\",\n",
    "        \"Population\":\"10 lacs\",\n",
    "        \"Fact\":\" Khairpur is famous for his old history of Kot Diji fort\"\n",
    "    }\n",
    "    \n",
    "}\n",
    "print(cities[\"Karachi\"])\n",
    "print(cities[\"Lahore\"])\n",
    "print(cities[\"Khairpur\"])\n"
   ]
  },
  {
   "cell_type": "code",
   "execution_count": 57,
   "metadata": {},
   "outputs": [
    {
     "name": "stdout",
     "output_type": "stream",
     "text": [
      "Enter your age :3\n",
      "Your ticket is free\n"
     ]
    }
   ],
   "source": [
    "age = int(input(\"Enter your age :\"))\n",
    "while True:\n",
    "    if age<= 3:\n",
    "        print(\"Your ticket is free\")\n",
    "    elif age>= 13:\n",
    "        print(\"your ticket is $10\")\n",
    "    else:\n",
    "        print(\"your ticket is $15\")\n",
    "    break "
   ]
  },
  {
   "cell_type": "code",
   "execution_count": 62,
   "metadata": {},
   "outputs": [],
   "source": [
    "def my_favorite(A_smarter_way_to_learn_python):\n",
    "    A_smarter_way_to_learn_python=\"if you embrace this method you will be succeessfull\"\n",
    "    print(A_smarter_way_to_learn_python)\n",
    "    \n",
    "    "
   ]
  },
  {
   "cell_type": "code",
   "execution_count": 64,
   "metadata": {},
   "outputs": [
    {
     "name": "stdout",
     "output_type": "stream",
     "text": [
      "Enter the value4\n",
      "Your number is low\n",
      "Enter the value6\n",
      "Your number is low\n",
      "Enter the value8\n",
      "you won\n"
     ]
    }
   ],
   "source": [
    "import random\n",
    "n1 = random.randint(1,30)\n",
    "guess_count =1\n",
    "while guess_count<4:\n",
    "    number=int(input(\"Enter the value\"))\n",
    "    guess_count +=1\n",
    "    if number>30:\n",
    "        print(\"Enter the number less than 30\")\n",
    "    if number<n1:\n",
    "        print(\"Your number is low\")\n",
    "    if number>n1:\n",
    "        print(\"Your number is high\")\n",
    "    if number==n1:\n",
    "        print(\"you won\")\n",
    "        break\n",
    "   "
   ]
  },
  {
   "cell_type": "code",
   "execution_count": null,
   "metadata": {},
   "outputs": [],
   "source": []
  }
 ],
 "metadata": {
  "kernelspec": {
   "display_name": "Python 3",
   "language": "python",
   "name": "python3"
  },
  "language_info": {
   "codemirror_mode": {
    "name": "ipython",
    "version": 3
   },
   "file_extension": ".py",
   "mimetype": "text/x-python",
   "name": "python",
   "nbconvert_exporter": "python",
   "pygments_lexer": "ipython3",
   "version": "3.7.3"
  }
 },
 "nbformat": 4,
 "nbformat_minor": 2
}
